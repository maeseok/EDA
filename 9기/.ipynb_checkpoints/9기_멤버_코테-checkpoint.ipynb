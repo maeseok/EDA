{
 "cells": [
  {
   "cell_type": "code",
   "execution_count": 1,
   "metadata": {
    "id": "W05-HpzAObWo"
   },
   "outputs": [],
   "source": [
    "import pandas as pd\n",
    "import numpy as np\n",
    "import seaborn as sns"
   ]
  },
  {
   "cell_type": "markdown",
   "metadata": {
    "id": "N1N1uL1WXS5g"
   },
   "source": [
    "# 문제 - 총 16점"
   ]
  },
  {
   "cell_type": "markdown",
   "metadata": {
    "id": "ZguPzl-IOb6s"
   },
   "source": [
    "### 문제 [1-1] - 8 점\n",
    "* 범위 0과 50 사이의 소수(prime number)을 출력하는 코드를 작성하세요.\n",
    "\n",
    "* Hint: for 반복문을 사용해주세요. \n",
    "* (공백, 줄바꿈 상관 없이 출력 결과만 맞으면 정답 처리)\n",
    "\n",
    "<답안 예시>\n",
    "1 과 10 사이의 소수: \n",
    "2\n",
    "3\n",
    "5\n"
   ]
  },
  {
   "cell_type": "code",
   "execution_count": 1,
   "metadata": {
    "id": "sk7yi95kO-HW"
   },
   "outputs": [
    {
     "name": "stdout",
     "output_type": "stream",
     "text": [
      "0\n",
      "1\n",
      "2\n",
      "3\n",
      "4\n",
      "5\n",
      "6\n",
      "7\n",
      "8\n",
      "9\n",
      "10\n",
      "11\n",
      "12\n",
      "13\n",
      "14\n",
      "15\n",
      "16\n",
      "17\n",
      "18\n",
      "19\n",
      "20\n",
      "21\n",
      "22\n",
      "23\n",
      "24\n",
      "25\n",
      "26\n",
      "27\n",
      "28\n",
      "29\n",
      "30\n",
      "31\n",
      "32\n",
      "33\n",
      "34\n",
      "35\n",
      "36\n",
      "37\n",
      "38\n",
      "39\n",
      "40\n",
      "41\n",
      "42\n",
      "43\n",
      "44\n",
      "45\n",
      "46\n",
      "47\n",
      "48\n",
      "49\n"
     ]
    }
   ],
   "source": [
    "for i in range(0,50):\n",
    "    for j in range(2,i):\n",
    "        if i%j==0:\n",
    "            continue\n",
    "        print(i)"
   ]
  },
  {
   "cell_type": "markdown",
   "metadata": {
    "id": "TPKAg2IMQmKX"
   },
   "source": [
    "### 문제 [1-2] - 8점\n",
    "* 범위 0과 50 사이의 소수(prime number)를 list 에 저장하고, 그 중에서 하나 수를 랜덤하게 뽑는 함수 rand_prime() 를 작성하세요. \n",
    "* Hint: import random "
   ]
  },
  {
   "cell_type": "code",
   "execution_count": null,
   "metadata": {
    "id": "lLKMqZLuRpn4"
   },
   "outputs": [],
   "source": []
  },
  {
   "cell_type": "markdown",
   "metadata": {
    "id": "YgoeyccsRpU-"
   },
   "source": [
    "# 문제 2 - 총 24점\n",
    "* 다음 데이터를 사용하여 각 문항에 답해주세요.\n",
    "\n",
    "\n",
    "\n",
    "* Hint: https://www.kaggle.com/ranjeetjain3/seaborn-tips-dataset 데이터셋에 대한 설명입니다. "
   ]
  },
  {
   "cell_type": "code",
   "execution_count": null,
   "metadata": {
    "id": "IwJOoQF0TeHY"
   },
   "outputs": [],
   "source": [
    "tips=sns.load_dataset('tips')\n",
    "tips.head()"
   ]
  },
  {
   "cell_type": "markdown",
   "metadata": {
    "id": "KUvbUC0FZDPU"
   },
   "source": [
    "### 문제 [2-1] - 6점\n",
    "* tips 에서 day 열값 분포를 구하세요. \n",
    "* 수치형 데이터의 요약 (평균, 사분위 수 등)을 구하시오. "
   ]
  },
  {
   "cell_type": "code",
   "execution_count": null,
   "metadata": {
    "id": "BgsQERNpWbfY"
   },
   "outputs": [],
   "source": []
  },
  {
   "cell_type": "markdown",
   "metadata": {
    "id": "h07K7z6JKMKh"
   },
   "source": [
    "### 문제 [2-2] - 6점\n",
    "* sex 별 tip 의 최댓값을 구하세요. \n",
    "* Hint: loc[ ]\n"
   ]
  },
  {
   "cell_type": "code",
   "execution_count": null,
   "metadata": {
    "id": "lJiNoF-gBX2b"
   },
   "outputs": [],
   "source": []
  },
  {
   "cell_type": "markdown",
   "metadata": {
    "id": "nJwwUKDHN3nz"
   },
   "source": [
    "### 문제 [2-3] - 6점\n",
    "* total_bill 과 tip 의 상관계수를 구하시오. \n",
    "* tip 을 total_bill 로 나눈 값을 float 타입으로 저장하여 tip_percent 칼럼에 저장하시오. "
   ]
  },
  {
   "cell_type": "code",
   "execution_count": null,
   "metadata": {
    "id": "ssVlgmayPAJf"
   },
   "outputs": [],
   "source": []
  },
  {
   "cell_type": "markdown",
   "metadata": {
    "id": "AzeiacUQN5oK"
   },
   "source": [
    "### 문제 [2-4] - 6점\n",
    "* 목요일에는 Tip 을 1 달러 더 받았지만, 데이터 작성에 문제가 있었다고 합니다. 올바른 목요일 Tip 값을 thur_new 에 저장하세요. \n",
    "* Hint: Apply, Lambda 사용\n"
   ]
  },
  {
   "cell_type": "code",
   "execution_count": null,
   "metadata": {
    "id": "FwKMUDGlPMcn"
   },
   "outputs": [],
   "source": []
  },
  {
   "cell_type": "markdown",
   "metadata": {
    "id": "cvrKPnOaOF6N"
   },
   "source": [
    "# 문제 3 - 총 45점"
   ]
  },
  {
   "cell_type": "code",
   "execution_count": null,
   "metadata": {
    "id": "B6ngBC7YQBrT"
   },
   "outputs": [],
   "source": [
    "#코랩 사용자는 아래의 코드로 파일을 불러와주세요.\n",
    "#해당되지 않는다면 아래 코드는 삭제해주세요.\n",
    "from google.colab import files\n",
    "uploaded = files.upload()"
   ]
  },
  {
   "cell_type": "markdown",
   "metadata": {
    "id": "fMQmmqLBXETA"
   },
   "source": [
    "### 문제 [3-1] - 5점\n",
    "* mpg.csv를 불러와 mpg에 저장한 후, 위에서부터 5행을 출력하세요."
   ]
  },
  {
   "cell_type": "code",
   "execution_count": null,
   "metadata": {},
   "outputs": [],
   "source": []
  },
  {
   "cell_type": "markdown",
   "metadata": {
    "id": "TVlmUBXgOJdO"
   },
   "source": [
    "### 문제 [3-2] - 5점\n",
    "* fl 데이터 빈도수를 알파벳 순서대로(ex. a->b->c)  출력하세요."
   ]
  },
  {
   "cell_type": "code",
   "execution_count": null,
   "metadata": {},
   "outputs": [],
   "source": []
  },
  {
   "cell_type": "markdown",
   "metadata": {
    "id": "YWdQXEr3OVTz"
   },
   "source": [
    "### 문제 [3-3] - 5점\n",
    "* mpg1이라는 새로운 데이터 프레임을 생성 후, mpg1 데이터를 출력하세요. \n",
    "* 이 데이터 프레임은 fl, price_fl이라는 두 열을 가지고 있습니다.\n",
    "-------------------------------------------------------------------------\n",
    "* fl값이 c이면, price_fl 값은 2.66 \n",
    "* fl값이 d이면, price_fl 값은 2.23 \n",
    "* fl값이 e이면, price_fl 값은 2.11 \n",
    "* fl값이 p이면, price_fl 값은 2.89 \n",
    "* fl값이 r이면, price_fl 값은 2.49"
   ]
  },
  {
   "cell_type": "code",
   "execution_count": 2,
   "metadata": {},
   "outputs": [
    {
     "data": {
      "text/html": [
       "<div>\n",
       "<style scoped>\n",
       "    .dataframe tbody tr th:only-of-type {\n",
       "        vertical-align: middle;\n",
       "    }\n",
       "\n",
       "    .dataframe tbody tr th {\n",
       "        vertical-align: top;\n",
       "    }\n",
       "\n",
       "    .dataframe thead th {\n",
       "        text-align: right;\n",
       "    }\n",
       "</style>\n",
       "<table border=\"1\" class=\"dataframe\">\n",
       "  <thead>\n",
       "    <tr style=\"text-align: right;\">\n",
       "      <th></th>\n",
       "      <th>fl</th>\n",
       "      <th>price_fl</th>\n",
       "    </tr>\n",
       "  </thead>\n",
       "  <tbody>\n",
       "    <tr>\n",
       "      <th>0</th>\n",
       "      <td>c</td>\n",
       "      <td>2.66</td>\n",
       "    </tr>\n",
       "    <tr>\n",
       "      <th>1</th>\n",
       "      <td>d</td>\n",
       "      <td>2.23</td>\n",
       "    </tr>\n",
       "    <tr>\n",
       "      <th>2</th>\n",
       "      <td>e</td>\n",
       "      <td>2.11</td>\n",
       "    </tr>\n",
       "    <tr>\n",
       "      <th>3</th>\n",
       "      <td>p</td>\n",
       "      <td>2.89</td>\n",
       "    </tr>\n",
       "    <tr>\n",
       "      <th>4</th>\n",
       "      <td>r</td>\n",
       "      <td>2.49</td>\n",
       "    </tr>\n",
       "  </tbody>\n",
       "</table>\n",
       "</div>"
      ],
      "text/plain": [
       "  fl  price_fl\n",
       "0  c      2.66\n",
       "1  d      2.23\n",
       "2  e      2.11\n",
       "3  p      2.89\n",
       "4  r      2.49"
      ]
     },
     "execution_count": 2,
     "metadata": {},
     "output_type": "execute_result"
    }
   ],
   "source": []
  },
  {
   "cell_type": "markdown",
   "metadata": {
    "id": "8_hP7FTnO77M"
   },
   "source": [
    "### 문제 [3-4] - 5점\n",
    "* mpg 데이터와 mpg1 데이터를 fl열을 기준으로 병합한 후, mpg2에 저장하고 mpg2를 출력하세요."
   ]
  },
  {
   "cell_type": "code",
   "execution_count": null,
   "metadata": {},
   "outputs": [],
   "source": []
  },
  {
   "cell_type": "markdown",
   "metadata": {
    "id": "SaXOs1LcOem9"
   },
   "source": [
    "### 문제 [3-5] - 5점\n",
    "* mpg2 데이터를 사용해주세요.\n",
    "* group 제조사(manufacturer)로 그룹화 한 후, 다시 클래스(class)별로 그룹화하여 평균을 구해주세요.\n",
    "* Hint: groupby()"
   ]
  },
  {
   "cell_type": "code",
   "execution_count": null,
   "metadata": {},
   "outputs": [],
   "source": []
  },
  {
   "cell_type": "markdown",
   "metadata": {
    "id": "mr1i-QJ5Oip6"
   },
   "source": [
    "### 문제 [3-6] - 5점\n",
    "* mpg2 데이터를 manufacturer 별로 그룹화하여, displ, price_fl의 count, max, min, mean 값을 구해주세요."
   ]
  },
  {
   "cell_type": "code",
   "execution_count": null,
   "metadata": {},
   "outputs": [],
   "source": []
  },
  {
   "cell_type": "markdown",
   "metadata": {
    "id": "7plhpBCVCEEg"
   },
   "source": [
    "### 문제 [3-7] - 15점\n",
    "* mpg2 데이터를 사용해주세요.\n",
    "* hwy(연비)가 가장 높은/많은 상위 5개의 manufacturer을 추출하여, top5의 인덱스만 추출해, top5_manufacturer에 저장해주세요.\n",
    "* top5_manufacturer을 출력해주세요.\n",
    "* Hint: top5 구할 때, 제조사 별로 묶어서 합하기"
   ]
  },
  {
   "cell_type": "code",
   "execution_count": 5,
   "metadata": {},
   "outputs": [
    {
     "data": {
      "text/plain": [
       "Index(['toyota', 'volkswagen', 'dodge', 'ford', 'audi'], dtype='object', name='manufacturer')"
      ]
     },
     "execution_count": 5,
     "metadata": {},
     "output_type": "execute_result"
    }
   ],
   "source": []
  },
  {
   "cell_type": "markdown",
   "metadata": {
    "id": "rDJgL8wKCEEh"
   },
   "source": [
    "# 문제 4 - 총 15점"
   ]
  },
  {
   "cell_type": "code",
   "execution_count": null,
   "metadata": {
    "id": "3mSbwk7sCEEg"
   },
   "outputs": [],
   "source": [
    "import datetime"
   ]
  },
  {
   "cell_type": "markdown",
   "metadata": {
    "id": "1jAj1tQRCEEh"
   },
   "source": [
    "* 2022년 1월 ~ 12월의 각 월별 마지막 날짜를 값으로 갖는 시계열 데이터프레임 happy2022을 만들어주세요.\n",
    "* happy2022 데이터프레임의 열 이름은 date로 지정해주세요.\n",
    "* happy2022를 출력해주세요\n",
    "* Hint: period, freq 사용"
   ]
  },
  {
   "cell_type": "code",
   "execution_count": 3,
   "metadata": {},
   "outputs": [
    {
     "data": {
      "text/html": [
       "<div>\n",
       "<style scoped>\n",
       "    .dataframe tbody tr th:only-of-type {\n",
       "        vertical-align: middle;\n",
       "    }\n",
       "\n",
       "    .dataframe tbody tr th {\n",
       "        vertical-align: top;\n",
       "    }\n",
       "\n",
       "    .dataframe thead th {\n",
       "        text-align: right;\n",
       "    }\n",
       "</style>\n",
       "<table border=\"1\" class=\"dataframe\">\n",
       "  <thead>\n",
       "    <tr style=\"text-align: right;\">\n",
       "      <th></th>\n",
       "      <th>date</th>\n",
       "    </tr>\n",
       "  </thead>\n",
       "  <tbody>\n",
       "    <tr>\n",
       "      <th>0</th>\n",
       "      <td>2022-01-31</td>\n",
       "    </tr>\n",
       "    <tr>\n",
       "      <th>1</th>\n",
       "      <td>2022-02-28</td>\n",
       "    </tr>\n",
       "    <tr>\n",
       "      <th>2</th>\n",
       "      <td>2022-03-31</td>\n",
       "    </tr>\n",
       "    <tr>\n",
       "      <th>3</th>\n",
       "      <td>2022-04-30</td>\n",
       "    </tr>\n",
       "    <tr>\n",
       "      <th>4</th>\n",
       "      <td>2022-05-31</td>\n",
       "    </tr>\n",
       "    <tr>\n",
       "      <th>5</th>\n",
       "      <td>2022-06-30</td>\n",
       "    </tr>\n",
       "    <tr>\n",
       "      <th>6</th>\n",
       "      <td>2022-07-31</td>\n",
       "    </tr>\n",
       "    <tr>\n",
       "      <th>7</th>\n",
       "      <td>2022-08-31</td>\n",
       "    </tr>\n",
       "    <tr>\n",
       "      <th>8</th>\n",
       "      <td>2022-09-30</td>\n",
       "    </tr>\n",
       "    <tr>\n",
       "      <th>9</th>\n",
       "      <td>2022-10-31</td>\n",
       "    </tr>\n",
       "    <tr>\n",
       "      <th>10</th>\n",
       "      <td>2022-11-30</td>\n",
       "    </tr>\n",
       "    <tr>\n",
       "      <th>11</th>\n",
       "      <td>2022-12-31</td>\n",
       "    </tr>\n",
       "  </tbody>\n",
       "</table>\n",
       "</div>"
      ],
      "text/plain": [
       "         date\n",
       "0  2022-01-31\n",
       "1  2022-02-28\n",
       "2  2022-03-31\n",
       "3  2022-04-30\n",
       "4  2022-05-31\n",
       "5  2022-06-30\n",
       "6  2022-07-31\n",
       "7  2022-08-31\n",
       "8  2022-09-30\n",
       "9  2022-10-31\n",
       "10 2022-11-30\n",
       "11 2022-12-31"
      ]
     },
     "execution_count": 3,
     "metadata": {},
     "output_type": "execute_result"
    }
   ],
   "source": []
  },
  {
   "cell_type": "markdown",
   "metadata": {
    "id": "IWnxTel2CEEh"
   },
   "source": [
    "# END\n",
    "# 수고하셨습니다. 좋은 결과 있기를 바라며\n",
    "# 코딩 테스트는 절대적 평가기준이 아닙니다."
   ]
  },
  {
   "cell_type": "code",
   "execution_count": null,
   "metadata": {
    "id": "FQwijlBHCEEh"
   },
   "outputs": [],
   "source": []
  }
 ],
 "metadata": {
  "colab": {
   "name": "9기_멤버_코테_final.ipynb",
   "provenance": []
  },
  "kernelspec": {
   "display_name": "Python 3 (ipykernel)",
   "language": "python",
   "name": "python3"
  },
  "language_info": {
   "codemirror_mode": {
    "name": "ipython",
    "version": 3
   },
   "file_extension": ".py",
   "mimetype": "text/x-python",
   "name": "python",
   "nbconvert_exporter": "python",
   "pygments_lexer": "ipython3",
   "version": "3.10.7"
  }
 },
 "nbformat": 4,
 "nbformat_minor": 1
}
