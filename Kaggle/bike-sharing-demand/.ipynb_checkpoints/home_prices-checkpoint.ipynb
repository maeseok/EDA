{
 "cells": [
  {
   "cell_type": "markdown",
   "id": "49d1a8b2-2609-44e8-9489-c9e8a4c5f196",
   "metadata": {},
   "source": [
    "# 회귀 분석을 활용한 주택 가격 예측"
   ]
  },
  {
   "cell_type": "code",
   "execution_count": null,
   "id": "317d32e3-8d45-4a8f-9ec9-66bab05db691",
   "metadata": {},
   "outputs": [],
   "source": []
  },
  {
   "cell_type": "code",
   "execution_count": 11,
   "id": "ffdb8bb1-067c-4a3f-b644-9673b75655fa",
   "metadata": {},
   "outputs": [],
   "source": [
    "#평균 제곱 오차를 활용해 정확도 평가 - 로그를 취해야 예측 값 간 찿이 작아져 정확도 높아짐\n",
    "%matplotlib inline\n",
    "import matplotlib.pyplot as plt\n",
    "import seaborn as sns\n",
    "plt.style.use(\"ggplot\")\n",
    "import pandas as pd\n",
    "import numpy as np\n",
    "import random\n",
    "np.random.seed(1234) #랜덤 시드 설정\n",
    "random.seed(1234)\n",
    "\n",
    "train_df = pd.read_csv(\"train.csv\")\n",
    "test_df = pd.read_csv(\"test.csv\")\n",
    "submission = pd.read_csv(\"sampleSubmission.csv\")\n",
    "\n",
    "train_df.head()"
   ]
  },
  {
   "cell_type": "code",
   "execution_count": null,
   "id": "500aafb4-9b94-4295-b89a-731568a3dbf3",
   "metadata": {},
   "outputs": [],
   "source": []
  }
 ],
 "metadata": {
  "kernelspec": {
   "display_name": "Python 3 (ipykernel)",
   "language": "python",
   "name": "python3"
  },
  "language_info": {
   "codemirror_mode": {
    "name": "ipython",
    "version": 3
   },
   "file_extension": ".py",
   "mimetype": "text/x-python",
   "name": "python",
   "nbconvert_exporter": "python",
   "pygments_lexer": "ipython3",
   "version": "3.10.10"
  }
 },
 "nbformat": 4,
 "nbformat_minor": 5
}
