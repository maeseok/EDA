{
 "cells": [
  {
   "cell_type": "markdown",
   "id": "c343251d",
   "metadata": {},
   "source": [
    "# 추가 분석1 - 통계 기법을 이용한 클러스터 분석"
   ]
  },
  {
   "cell_type": "code",
   "execution_count": 1,
   "id": "91d4b2e7",
   "metadata": {},
   "outputs": [
    {
     "ename": "NameError",
     "evalue": "name 'train_df_le' is not defined",
     "output_type": "error",
     "traceback": [
      "\u001b[1;31m---------------------------------------------------------------------------\u001b[0m",
      "\u001b[1;31mNameError\u001b[0m                                 Traceback (most recent call last)",
      "Cell \u001b[1;32mIn[1], line 1\u001b[0m\n\u001b[1;32m----> 1\u001b[0m train_df_le_dn \u001b[38;5;241m=\u001b[39m \u001b[43mtrain_df_le\u001b[49m\u001b[38;5;241m.\u001b[39mdropna()\n\u001b[0;32m      2\u001b[0m train_df_le_dn\n",
      "\u001b[1;31mNameError\u001b[0m: name 'train_df_le' is not defined"
     ]
    }
   ],
   "source": [
    "train_df_le_dn = train_df_le.dropna()\n",
    "train_df_le_dn"
   ]
  },
  {
   "cell_type": "code",
   "execution_count": null,
   "id": "2c40ea99",
   "metadata": {},
   "outputs": [],
   "source": [
    "#데이터 정규화하기\n",
    "from sklearn import preprocessing\n",
    "train_scaled = preprocessing.scale(train_df_le_dn.drop([\"Id\"], axis=1))\n",
    "train_scaled  #np.array 형식"
   ]
  },
  {
   "cell_type": "code",
   "execution_count": null,
   "id": "a85657f1",
   "metadata": {},
   "outputs": [],
   "source": [
    "#데이터프레임 형식으로 변환\n",
    "train_scaled_df = pd.DataFrame(train_scaled)\n",
    "train_scaled_df.columns = train_df_le_dn.drop([\"Id\"],axis=1).columns\n",
    "train_scaled_df"
   ]
  },
  {
   "cell_type": "code",
   "execution_count": null,
   "id": "3c582cee",
   "metadata": {},
   "outputs": [],
   "source": [
    "#k-means 클러스터 분석 - 중심점을 무작위로 결정 후 각 데이터를 가장 가까운 중심점의 군집에 속하게 한 훟 군집의 중심점 다시 계산 반복\n",
    "from sklearn.cluster import KMeans\n",
    "np.random.seed(1234)"
   ]
  },
  {
   "cell_type": "code",
   "execution_count": null,
   "id": "fc4e6334",
   "metadata": {},
   "outputs": [],
   "source": [
    "#클러스터 수 지정하여 분류 - 클러스터 4개\n",
    "house_cluster = KMeans(n_clusters=4).fit_predict(train_scaled)"
   ]
  },
  {
   "cell_type": "code",
   "execution_count": null,
   "id": "d991be5b",
   "metadata": {},
   "outputs": [],
   "source": [
    "#원래 데이터에 클러스터 정보 부여\n",
    "train_scaled_df[\"km_cluster\"] = house_cluster"
   ]
  },
  {
   "cell_type": "code",
   "execution_count": null,
   "id": "fec892b0",
   "metadata": {},
   "outputs": [],
   "source": [
    "#클러스터별 데이터 수 확인하기\n",
    "train_scaled_df[\"km_cluster\"].value_counts()"
   ]
  },
  {
   "cell_type": "code",
   "execution_count": 4,
   "id": "1bd4cbd4",
   "metadata": {},
   "outputs": [
    {
     "ename": "NameError",
     "evalue": "name 'train_scaled_df' is not defined",
     "output_type": "error",
     "traceback": [
      "\u001b[1;31m---------------------------------------------------------------------------\u001b[0m",
      "\u001b[1;31mNameError\u001b[0m                                 Traceback (most recent call last)",
      "Cell \u001b[1;32mIn[4], line 2\u001b[0m\n\u001b[0;32m      1\u001b[0m \u001b[38;5;66;03m#클러스터별 특징 시각화하기\u001b[39;00m\n\u001b[1;32m----> 2\u001b[0m cluster_mean \u001b[38;5;241m=\u001b[39m \u001b[43mtrain_scaled_df\u001b[49m[[\u001b[38;5;124m\"\u001b[39m\u001b[38;5;124mkm_cluster\u001b[39m\u001b[38;5;124m\"\u001b[39m,\u001b[38;5;124m\"\u001b[39m\u001b[38;5;124mSalePrice\u001b[39m\u001b[38;5;124m\"\u001b[39m,\u001b[38;5;124m\"\u001b[39m\u001b[38;5;124mTotalSF\u001b[39m\u001b[38;5;124m\"\u001b[39m,\u001b[38;5;124m\"\u001b[39m\u001b[38;5;124mOverallQual\u001b[39m\u001b[38;5;124m\"\u001b[39m,\u001b[38;5;124m\"\u001b[39m\u001b[38;5;124mAge\u001b[39m\u001b[38;5;124m\"\u001b[39m,\u001b[38;5;124m\"\u001b[39m\u001b[38;5;124mTotal_Bathrooms\u001b[39m\u001b[38;5;124m\"\u001b[39m,\u001b[38;5;124m\"\u001b[39m\u001b[38;5;124mYearRemodAdd\u001b[39m\u001b[38;5;124m\"\u001b[39m,\u001b[38;5;124m\"\u001b[39m\u001b[38;5;124mGarageArea\u001b[39m\u001b[38;5;124m\"\u001b[39m,\u001b[38;5;124m\"\u001b[39m\u001b[38;5;124mMSZoning\u001b[39m\u001b[38;5;124m\"\u001b[39m,\u001b[38;5;124m\"\u001b[39m\u001b[38;5;124mOverallCond\u001b[39m\u001b[38;5;124m\"\u001b[39m,\u001b[38;5;124m\"\u001b[39m\u001b[38;5;124mKitchenQual\u001b[39m\u001b[38;5;124m\"\u001b[39m,\u001b[38;5;124m\"\u001b[39m\u001b[38;5;124mFireplaceQu\u001b[39m\u001b[38;5;124m\"\u001b[39m]]\u001b[38;5;241m.\u001b[39mgroupby(\u001b[38;5;124m\"\u001b[39m\u001b[38;5;124mkm_cluster\u001b[39m\u001b[38;5;124m\"\u001b[39m)\u001b[38;5;241m.\u001b[39mmean()\u001b[38;5;241m.\u001b[39mreset_index()\n",
      "\u001b[1;31mNameError\u001b[0m: name 'train_scaled_df' is not defined"
     ]
    }
   ],
   "source": [
    "#클러스터별 특징 시각화하기\n",
    "cluster_mean = train_scaled_df[[\"km_cluster\",\"SalePrice\",\"TotalSF\",\"OverallQual\",\"Age\",\"Total_Bathrooms\",\"YearRemodAdd\",\"GarageArea\",\"MSZoning\",\"OverallCond\",\"KitchenQual\",\"FireplaceQu\"]].groupby(\"km_cluster\").mean().reset_index()"
   ]
  },
  {
   "cell_type": "code",
   "execution_count": 2,
   "id": "4caf11cd",
   "metadata": {},
   "outputs": [
    {
     "ename": "NameError",
     "evalue": "name 'cluster_mean' is not defined",
     "output_type": "error",
     "traceback": [
      "\u001b[1;31m---------------------------------------------------------------------------\u001b[0m",
      "\u001b[1;31mNameError\u001b[0m                                 Traceback (most recent call last)",
      "Cell \u001b[1;32mIn[2], line 1\u001b[0m\n\u001b[1;32m----> 1\u001b[0m cluster_mean \u001b[38;5;241m=\u001b[39m \u001b[43mcluster_mean\u001b[49m\u001b[38;5;241m.\u001b[39mT\n",
      "\u001b[1;31mNameError\u001b[0m: name 'cluster_mean' is not defined"
     ]
    }
   ],
   "source": [
    "cluster_mean = cluster_mean.T"
   ]
  },
  {
   "cell_type": "code",
   "execution_count": 3,
   "id": "f20eb6ec",
   "metadata": {},
   "outputs": [
    {
     "ename": "NameError",
     "evalue": "name 'cluster_mean' is not defined",
     "output_type": "error",
     "traceback": [
      "\u001b[1;31m---------------------------------------------------------------------------\u001b[0m",
      "\u001b[1;31mNameError\u001b[0m                                 Traceback (most recent call last)",
      "Cell \u001b[1;32mIn[3], line 1\u001b[0m\n\u001b[1;32m----> 1\u001b[0m \u001b[43mcluster_mean\u001b[49m\n",
      "\u001b[1;31mNameError\u001b[0m: name 'cluster_mean' is not defined"
     ]
    }
   ],
   "source": [
    "cluster_mean"
   ]
  },
  {
   "cell_type": "code",
   "execution_count": null,
   "id": "b29af9df",
   "metadata": {},
   "outputs": [],
   "source": []
  }
 ],
 "metadata": {
  "kernelspec": {
   "display_name": "Python 3 (ipykernel)",
   "language": "python",
   "name": "python3"
  },
  "language_info": {
   "codemirror_mode": {
    "name": "ipython",
    "version": 3
   },
   "file_extension": ".py",
   "mimetype": "text/x-python",
   "name": "python",
   "nbconvert_exporter": "python",
   "pygments_lexer": "ipython3",
   "version": "3.10.7"
  }
 },
 "nbformat": 4,
 "nbformat_minor": 5
}
