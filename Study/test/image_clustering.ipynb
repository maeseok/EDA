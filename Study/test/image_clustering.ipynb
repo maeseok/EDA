{
 "cells": [
  {
   "cell_type": "code",
   "execution_count": 3,
   "metadata": {},
   "outputs": [
    {
     "ename": "ModuleNotFoundError",
     "evalue": "No module named 'matplotlib'",
     "output_type": "error",
     "traceback": [
      "\u001b[1;31m---------------------------------------------------------------------------\u001b[0m",
      "\u001b[1;31mModuleNotFoundError\u001b[0m                       Traceback (most recent call last)",
      "Cell \u001b[1;32mIn[3], line 3\u001b[0m\n\u001b[0;32m      1\u001b[0m \u001b[39mimport\u001b[39;00m \u001b[39mos\u001b[39;00m\n\u001b[0;32m      2\u001b[0m \u001b[39mimport\u001b[39;00m \u001b[39mnumpy\u001b[39;00m \u001b[39mas\u001b[39;00m \u001b[39mnp\u001b[39;00m\n\u001b[1;32m----> 3\u001b[0m \u001b[39mimport\u001b[39;00m \u001b[39mmatplotlib\u001b[39;00m\u001b[39m.\u001b[39;00m\u001b[39mpyplot\u001b[39;00m \u001b[39mas\u001b[39;00m \u001b[39mplt\u001b[39;00m\n\u001b[0;32m      4\u001b[0m \u001b[39mfrom\u001b[39;00m \u001b[39msklearn\u001b[39;00m\u001b[39m.\u001b[39;00m\u001b[39mcluster\u001b[39;00m \u001b[39mimport\u001b[39;00m KMeans\n\u001b[0;32m      5\u001b[0m \u001b[39mfrom\u001b[39;00m \u001b[39mtensorflow\u001b[39;00m\u001b[39m.\u001b[39;00m\u001b[39mkeras\u001b[39;00m\u001b[39m.\u001b[39;00m\u001b[39mlayers\u001b[39;00m \u001b[39mimport\u001b[39;00m Input, Dense, Flatten, Reshape\n",
      "\u001b[1;31mModuleNotFoundError\u001b[0m: No module named 'matplotlib'"
     ]
    }
   ],
   "source": [
    "import os\n",
    "import numpy as np\n",
    "import matplotlib.pyplot as plt\n",
    "from sklearn.cluster import KMeans\n",
    "from tensorflow.keras.layers import Input, Dense, Flatten, Reshape\n",
    "from tensorflow.keras.models import Model\n",
    "from tensorflow.keras.optimizers import Adam\n",
    "from tensorflow.keras.preprocessing.image import load_img, img_to_array\n",
    "from tensorflow.keras.applications import VGG16\n",
    "from tensorflow.keras.applications.vgg16 import preprocess_input\n",
    "from tensorflow.keras import backend as K\n",
    "\n"
   ]
  },
  {
   "cell_type": "code",
   "execution_count": null,
   "metadata": {},
   "outputs": [],
   "source": [
    "# VGG16 모델을 사용하여 이미지의 특징을 추출\n",
    "# AutoEncoder를 훈련시켜 딥러닝 기반 클러스터링을 수행"
   ]
  },
  {
   "cell_type": "code",
   "execution_count": null,
   "metadata": {},
   "outputs": [],
   "source": [
    "def load_image(image_path):\n",
    "    image = Image.open(image_path)\n",
    "    return np.array(image)"
   ]
  },
  {
   "cell_type": "code",
   "execution_count": 35,
   "metadata": {},
   "outputs": [],
   "source": [
    "def load_images_from_folder(folder):\n",
    "    images = []\n",
    "    allowed_extensions = {'png', 'jpg', 'jpeg', 'gif'}  # 허용되는 이미지 확장자 목록 추가\n",
    "\n",
    "    for filename in os.listdir(folder):\n",
    "        file_path = os.path.join(folder, filename)\n",
    "\n",
    "        # 파일이 이미지 파일인지 확인\n",
    "        if not filename.lower().endswith(tuple(allowed_extensions)):\n",
    "            continue\n",
    "\n",
    "        try:\n",
    "            img = load_img(file_path, target_size=(224, 224))\n",
    "            img_array = img_to_array(img)\n",
    "            images.append(img_array)\n",
    "        except Exception as e:\n",
    "            print(f\"Error loading image {file_path}: {e}\")\n",
    "\n",
    "    return np.array(images)\n",
    "\n",
    "def build_autoencoder(input_shape, encoding_dim):\n",
    "    input_img = Input(shape=input_shape)\n",
    "    flat_img = Flatten()(input_img)\n",
    "    encoded = Dense(encoding_dim, activation='relu')(flat_img)\n",
    "    decoded = Dense(np.prod(input_shape), activation='sigmoid')(encoded)\n",
    "    decoded = Reshape(input_shape)(decoded)\n",
    "\n",
    "    autoencoder = Model(input_img, decoded)\n",
    "    encoder = Model(input_img, encoded)\n",
    "\n",
    "    autoencoder.compile(optimizer=Adam(learning_rate=0.001), loss='mse')\n",
    "\n",
    "    return autoencoder, encoder\n",
    "\n",
    "def feature_extraction(images, base_model):\n",
    "    features = base_model.predict(preprocess_input(images))\n",
    "    features = features.reshape((len(features), -1))\n",
    "    return features\n",
    "\n",
    "# def image_clustering_deep_learning(image_folder, encoding_dim, n_clusters):\n",
    "#     # Load images from the specified folder\n",
    "#     images = load_images_from_folder(image_folder)\n"
   ]
  },
  {
   "cell_type": "code",
   "execution_count": 52,
   "metadata": {},
   "outputs": [],
   "source": [
    "##예시 진행\n",
    "images = load_images_from_folder('C:\\dongjaeWorkSpace\\pythonWorkSpace\\.vscode\\TAVE_project\\Image_crow\\남자배우\\김현중 SS501')"
   ]
  },
  {
   "cell_type": "code",
   "execution_count": 53,
   "metadata": {},
   "outputs": [],
   "source": [
    "base_model =VGG16(weights='imagenet',include_top=False,input_shape=(224,224,3))"
   ]
  },
  {
   "cell_type": "code",
   "execution_count": 54,
   "metadata": {},
   "outputs": [
    {
     "name": "stdout",
     "output_type": "stream",
     "text": [
      "28/28 [==============================] - 94s 3s/step\n"
     ]
    }
   ],
   "source": [
    "features = feature_extraction(images, base_model)"
   ]
  },
  {
   "cell_type": "code",
   "execution_count": 55,
   "metadata": {},
   "outputs": [
    {
     "name": "stdout",
     "output_type": "stream",
     "text": [
      "Epoch 1/50\n",
      "3/3 [==============================] - 1s 148ms/step - loss: 82.0583 - val_loss: 95.8991\n",
      "Epoch 2/50\n",
      "3/3 [==============================] - 0s 66ms/step - loss: 81.5321 - val_loss: 95.2944\n",
      "Epoch 3/50\n",
      "3/3 [==============================] - 0s 67ms/step - loss: 81.0795 - val_loss: 95.0715\n",
      "Epoch 4/50\n",
      "3/3 [==============================] - 0s 70ms/step - loss: 80.9528 - val_loss: 95.0404\n",
      "Epoch 5/50\n",
      "3/3 [==============================] - 0s 69ms/step - loss: 80.9349 - val_loss: 95.0365\n",
      "Epoch 6/50\n",
      "3/3 [==============================] - 0s 64ms/step - loss: 80.9250 - val_loss: 95.0290\n",
      "Epoch 7/50\n",
      "3/3 [==============================] - 0s 66ms/step - loss: 80.9135 - val_loss: 95.0203\n",
      "Epoch 8/50\n",
      "3/3 [==============================] - 0s 66ms/step - loss: 80.9010 - val_loss: 95.0142\n",
      "Epoch 9/50\n",
      "3/3 [==============================] - 0s 69ms/step - loss: 80.8904 - val_loss: 95.0087\n",
      "Epoch 10/50\n",
      "3/3 [==============================] - 0s 66ms/step - loss: 80.8795 - val_loss: 95.0024\n",
      "Epoch 11/50\n",
      "3/3 [==============================] - 0s 67ms/step - loss: 80.8695 - val_loss: 94.9975\n",
      "Epoch 12/50\n",
      "3/3 [==============================] - 0s 63ms/step - loss: 80.8612 - val_loss: 94.9930\n",
      "Epoch 13/50\n",
      "3/3 [==============================] - 0s 64ms/step - loss: 80.8531 - val_loss: 94.9900\n",
      "Epoch 14/50\n",
      "3/3 [==============================] - 0s 66ms/step - loss: 80.8460 - val_loss: 94.9876\n",
      "Epoch 15/50\n",
      "3/3 [==============================] - 0s 71ms/step - loss: 80.8395 - val_loss: 94.9859\n",
      "Epoch 16/50\n",
      "3/3 [==============================] - 0s 75ms/step - loss: 80.8330 - val_loss: 94.9836\n",
      "Epoch 17/50\n",
      "3/3 [==============================] - 0s 76ms/step - loss: 80.8275 - val_loss: 94.9821\n",
      "Epoch 18/50\n",
      "3/3 [==============================] - 0s 76ms/step - loss: 80.8221 - val_loss: 94.9812\n",
      "Epoch 19/50\n",
      "3/3 [==============================] - 0s 73ms/step - loss: 80.8174 - val_loss: 94.9815\n",
      "Epoch 20/50\n",
      "3/3 [==============================] - 0s 76ms/step - loss: 80.8128 - val_loss: 94.9802\n",
      "Epoch 21/50\n",
      "3/3 [==============================] - 0s 73ms/step - loss: 80.8087 - val_loss: 94.9809\n",
      "Epoch 22/50\n",
      "3/3 [==============================] - 0s 66ms/step - loss: 80.8048 - val_loss: 94.9802\n",
      "Epoch 23/50\n",
      "3/3 [==============================] - 0s 69ms/step - loss: 80.8010 - val_loss: 94.9812\n",
      "Epoch 24/50\n",
      "3/3 [==============================] - 0s 74ms/step - loss: 80.7973 - val_loss: 94.9794\n",
      "Epoch 25/50\n",
      "3/3 [==============================] - 0s 68ms/step - loss: 80.7939 - val_loss: 94.9809\n",
      "Epoch 26/50\n",
      "3/3 [==============================] - 0s 71ms/step - loss: 80.7904 - val_loss: 94.9806\n",
      "Epoch 27/50\n",
      "3/3 [==============================] - 0s 74ms/step - loss: 80.7872 - val_loss: 94.9802\n",
      "Epoch 28/50\n",
      "3/3 [==============================] - 0s 67ms/step - loss: 80.7838 - val_loss: 94.9842\n",
      "Epoch 29/50\n",
      "3/3 [==============================] - 0s 73ms/step - loss: 80.7809 - val_loss: 94.9800\n",
      "Epoch 30/50\n",
      "3/3 [==============================] - 0s 68ms/step - loss: 80.7779 - val_loss: 94.9847\n",
      "Epoch 31/50\n",
      "3/3 [==============================] - 0s 66ms/step - loss: 80.7750 - val_loss: 94.9822\n",
      "Epoch 32/50\n",
      "3/3 [==============================] - 0s 83ms/step - loss: 80.7722 - val_loss: 94.9828\n",
      "Epoch 33/50\n",
      "3/3 [==============================] - 0s 68ms/step - loss: 80.7692 - val_loss: 94.9873\n",
      "Epoch 34/50\n",
      "3/3 [==============================] - 0s 71ms/step - loss: 80.7666 - val_loss: 94.9818\n",
      "Epoch 35/50\n",
      "3/3 [==============================] - 0s 63ms/step - loss: 80.7638 - val_loss: 94.9863\n",
      "Epoch 36/50\n",
      "3/3 [==============================] - 0s 67ms/step - loss: 80.7613 - val_loss: 94.9846\n",
      "Epoch 37/50\n",
      "3/3 [==============================] - 0s 64ms/step - loss: 80.7588 - val_loss: 94.9860\n",
      "Epoch 38/50\n",
      "3/3 [==============================] - 0s 67ms/step - loss: 80.7560 - val_loss: 94.9873\n",
      "Epoch 39/50\n",
      "3/3 [==============================] - 0s 71ms/step - loss: 80.7537 - val_loss: 94.9869\n",
      "Epoch 40/50\n",
      "3/3 [==============================] - 0s 69ms/step - loss: 80.7515 - val_loss: 94.9887\n",
      "Epoch 41/50\n",
      "3/3 [==============================] - 0s 71ms/step - loss: 80.7489 - val_loss: 94.9872\n",
      "Epoch 42/50\n",
      "3/3 [==============================] - 0s 73ms/step - loss: 80.7469 - val_loss: 94.9886\n",
      "Epoch 43/50\n",
      "3/3 [==============================] - 0s 68ms/step - loss: 80.7446 - val_loss: 94.9915\n",
      "Epoch 44/50\n",
      "3/3 [==============================] - 0s 64ms/step - loss: 80.7427 - val_loss: 94.9868\n",
      "Epoch 45/50\n",
      "3/3 [==============================] - 0s 65ms/step - loss: 80.7405 - val_loss: 94.9928\n",
      "Epoch 46/50\n",
      "3/3 [==============================] - 0s 65ms/step - loss: 80.7385 - val_loss: 94.9889\n",
      "Epoch 47/50\n",
      "3/3 [==============================] - 0s 66ms/step - loss: 80.7366 - val_loss: 94.9911\n",
      "Epoch 48/50\n",
      "3/3 [==============================] - 0s 61ms/step - loss: 80.7346 - val_loss: 94.9922\n",
      "Epoch 49/50\n",
      "3/3 [==============================] - 0s 64ms/step - loss: 80.7326 - val_loss: 94.9907\n",
      "Epoch 50/50\n",
      "3/3 [==============================] - 0s 66ms/step - loss: 80.7304 - val_loss: 94.9947\n"
     ]
    },
    {
     "data": {
      "text/plain": [
       "<keras.callbacks.History at 0x1e92dbaec50>"
      ]
     },
     "execution_count": 55,
     "metadata": {},
     "output_type": "execute_result"
    }
   ],
   "source": [
    "input_shape = features.shape[1:]\n",
    "autoencoder, encoder = build_autoencoder(input_shape,encoding_dim=32)\n",
    "autoencoder.fit(features, features, epochs=50, batch_size=256, shuffle=True, validation_split=0.2)"
   ]
  },
  {
   "cell_type": "code",
   "execution_count": 56,
   "metadata": {},
   "outputs": [
    {
     "name": "stdout",
     "output_type": "stream",
     "text": [
      "28/28 [==============================] - 0s 3ms/step\n"
     ]
    }
   ],
   "source": [
    "encoded_features = encoder.predict(features)"
   ]
  },
  {
   "cell_type": "code",
   "execution_count": 57,
   "metadata": {},
   "outputs": [],
   "source": [
    "kmeans = KMeans(n_clusters=2, random_state=42)\n",
    "kmeans.fit(encoded_features)\n",
    "labels = kmeans.labels_"
   ]
  },
  {
   "cell_type": "code",
   "execution_count": 58,
   "metadata": {},
   "outputs": [
    {
     "data": {
      "image/png": "[encoded data removed]",
      "text/plain": [
       "<Figure size 432x288 with 1 Axes>"
      ]
     },
     "metadata": {
      "needs_background": "light"
     },
     "output_type": "display_data"
    }
   ],
   "source": [
    "plt.scatter(encoded_features[:, 0], encoded_features[:, 1], c=labels, cmap='viridis')\n",
    "plt.title('Clustered Images')\n",
    "plt.show()"
   ]
  }
 ],
 "metadata": {
  "kernelspec": {
   "display_name": "Python 3.10.7 32-bit",
   "language": "python",
   "name": "python3"
  },
  "language_info": {
   "codemirror_mode": {
    "name": "ipython",
    "version": 3
   },
   "file_extension": ".py",
   "mimetype": "text/x-python",
   "name": "python",
   "nbconvert_exporter": "python",
   "pygments_lexer": "ipython3",
   "version": "3.10.7"
  },
  "vscode": {
   "interpreter": {
    "hash": "3d51e93dacfd8a31212475a11be211b9774fd5d65557f351aa48d2a70cba5c72"
   }
  }
 },
 "nbformat": 4,
 "nbformat_minor": 2
}
