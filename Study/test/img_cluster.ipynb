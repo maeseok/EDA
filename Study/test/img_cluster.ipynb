{
 "cells": [
  {
   "cell_type": "code",
   "execution_count": 13,
   "id": "f0af8599-b0bd-4470-9b63-18b8c8591e67",
   "metadata": {},
   "outputs": [],
   "source": [
    "import os\n",
    "import numpy as np\n",
    "import matplotlib.pyplot as plt\n",
    "from sklearn.cluster import KMeans\n",
    "from tensorflow.keras.layers import Input, Dense, Flatten, Reshape\n",
    "from tensorflow.keras.models import Model\n",
    "from tensorflow.keras.optimizers import Adam\n",
    "from tensorflow.keras.preprocessing.image import load_img, img_to_array\n",
    "from tensorflow.keras.applications import VGG16\n",
    "from tensorflow.keras.applications.vgg16 import preprocess_input\n",
    "from tensorflow.keras import backend as K\n",
    "import shutil\n",
    "\n",
    "def load_images_from_folder(folder):\n",
    "    images = []\n",
    "    allowed_extensions = {'png', 'jpg', 'jpeg', 'gif'}  # 허용되는 이미지 확장자 목록 추가\n",
    "\n",
    "    for filename in os.listdir(folder):\n",
    "        file_path = os.path.join(folder, filename)\n",
    "\n",
    "        # 파일이 이미지 파일인지 확인\n",
    "        if not filename.lower().endswith(tuple(allowed_extensions)):\n",
    "            continue\n",
    "\n",
    "        try:\n",
    "            img = load_img(file_path, target_size=(224, 224))\n",
    "            img_array = img_to_array(img) /255.0\n",
    "            images.append(img_array)\n",
    "        except Exception as e:\n",
    "            print(f\"Error loading image {file_path}: {e}\")\n",
    "\n",
    "    return np.array(images)"
   ]
  },
  {
   "cell_type": "code",
   "execution_count": null,
   "id": "111787f3-5fe2-441d-b59c-5d1f88458996",
   "metadata": {},
   "outputs": [
    {
     "name": "stdout",
     "output_type": "stream",
     "text": [
      "17/17 [==============================] - 68s 4s/step\n"
     ]
    },
    {
     "name": "stderr",
     "output_type": "stream",
     "text": [
      "C:\\Users\\gudtj\\AppData\\Local\\Programs\\Python\\Python310\\lib\\site-packages\\sklearn\\cluster\\_kmeans.py:1412: FutureWarning: The default value of `n_init` will change from 10 to 'auto' in 1.4. Set the value of `n_init` explicitly to suppress the warning\n",
      "  super()._check_params_vs_input(X, default_n_init=10)\n"
     ]
    }
   ],
   "source": [
    "images = load_images_from_folder('C:\\\\Users\\\\gudtj\\\\OneDrive\\\\바탕 화면\\\\2023\\코딩\\\\EDA\\\\Study\\\\test\\\\여자배우\\\\배다빈_수정본')\n",
    "\n",
    "model = VGG16(weights='imagenet', include_top=False)\n",
    "features = model.predict(images)\n",
    "\n",
    "features = features.reshape(features.shape[0], -1)\n",
    "kmeans = KMeans(n_clusters=2, random_state=42).fit(features)\n",
    "labels = kmeans.labels_\n",
    "print(len(labels))"
   ]
  },
  {
   "cell_type": "code",
   "execution_count": 19,
   "id": "e9bc502d-0e75-48dc-af4d-a6abfdaaf969",
   "metadata": {},
   "outputs": [],
   "source": [
    "from tensorflow.keras.preprocessing.image import array_to_img\n",
    "\n",
    "def save_images_by_cluster(images, labels, cluster_folder_0, cluster_folder_1):\n",
    "    for idx, (image, label) in enumerate(zip(images, labels)):\n",
    "        image_folder = cluster_folder_0 if label == 0 else cluster_folder_1\n",
    "        image_path = os.path.join(image_folder, f'image_{idx}.png')\n",
    "        \n",
    "        img = array_to_img(image , scale=True)  # Scale back to 0-255 안함\n",
    "        img.save(image_path)\n",
    "\n",
    "cluster_0_folder = 'cluster_0'\n",
    "cluster_1_folder = 'cluster_1'"
   ]
  },
  {
   "cell_type": "code",
   "execution_count": 20,
   "id": "a0ee2245-23dd-4416-941c-0781d69ceda9",
   "metadata": {},
   "outputs": [],
   "source": [
    "os.makedirs(cluster_0_folder, exist_ok=True)\n",
    "os.makedirs(cluster_1_folder, exist_ok=True)\n",
    "\n",
    "save_images_by_cluster(images, labels, cluster_0_folder, cluster_1_folder)"
   ]
  },
  {
   "cell_type": "code",
   "execution_count": null,
   "id": "6495b7d0-34e5-40bf-849c-31c3ddb4aff6",
   "metadata": {},
   "outputs": [],
   "source": []
  }
 ],
 "metadata": {
  "kernelspec": {
   "display_name": "Python 3 (ipykernel)",
   "language": "python",
   "name": "python3"
  },
  "language_info": {
   "codemirror_mode": {
    "name": "ipython",
    "version": 3
   },
   "file_extension": ".py",
   "mimetype": "text/x-python",
   "name": "python",
   "nbconvert_exporter": "python",
   "pygments_lexer": "ipython3",
   "version": "3.10.10"
  }
 },
 "nbformat": 4,
 "nbformat_minor": 5
}
