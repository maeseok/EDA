{
 "cells": [
  {
   "cell_type": "code",
   "execution_count": 18,
   "id": "f0af8599-b0bd-4470-9b63-18b8c8591e67",
   "metadata": {},
   "outputs": [
    {
     "name": "stdout",
     "output_type": "stream",
     "text": [
      "352\n",
      "17/17 [==============================] - 65s 4s/step\n"
     ]
    },
    {
     "name": "stderr",
     "output_type": "stream",
     "text": [
      "C:\\Users\\gudtj\\AppData\\Local\\Programs\\Python\\Python310\\lib\\site-packages\\sklearn\\cluster\\_kmeans.py:1412: FutureWarning: The default value of `n_init` will change from 10 to 'auto' in 1.4. Set the value of `n_init` explicitly to suppress the warning\n",
      "  super()._check_params_vs_input(X, default_n_init=10)\n"
     ]
    },
    {
     "name": "stdout",
     "output_type": "stream",
     "text": [
      "success 배다빈\n",
      " 8/15 [===============>..............] - ETA: 28s"
     ]
    },
    {
     "name": "stderr",
     "output_type": "stream",
     "text": [
      "\n",
      "KeyboardInterrupt\n",
      "\n"
     ]
    }
   ],
   "source": [
    "import os\n",
    "import numpy as np\n",
    "import matplotlib.pyplot as plt\n",
    "from sklearn.cluster import KMeans\n",
    "from tensorflow.keras.layers import Input, Dense, Flatten, Reshape\n",
    "from tensorflow.keras.models import Model\n",
    "from tensorflow.keras.optimizers import Adam\n",
    "from tensorflow.keras.preprocessing.image import load_img, img_to_array\n",
    "from tensorflow.keras.applications import VGG16\n",
    "from tensorflow.keras.applications.vgg16 import preprocess_input\n",
    "from tensorflow.keras import backend as K\n",
    "from tensorflow.keras.preprocessing.image import array_to_img\n",
    "import shutil\n",
    "\n",
    "def load_images_from_folder(folder):\n",
    "    images = []\n",
    "    allowed_extensions = {'png', 'jpg', 'jpeg', 'gif'}\n",
    "\n",
    "    for filename in os.listdir(folder):\n",
    "        file_path = os.path.join(folder, filename)\n",
    "\n",
    "        if not filename.lower().endswith(tuple(allowed_extensions)):\n",
    "            continue\n",
    "\n",
    "        try:\n",
    "            img = load_img(file_path, target_size=(224, 224))\n",
    "            img_array = img_to_array(img) / 255.0\n",
    "            images.append(img_array)\n",
    "        except Exception as e:\n",
    "            print(f\"Error loading image {file_path}: {e}\")\n",
    "\n",
    "    return np.array(images)\n",
    "\n",
    "def cluster_and_save(folder_path, cluster_0_folder, cluster_1_folder):\n",
    "    images = load_images_from_folder(folder_path)\n",
    "\n",
    "    model = VGG16(weights='imagenet', include_top=False)\n",
    "    features = model.predict(images)\n",
    "\n",
    "    features = features.reshape(features.shape[0], -1)\n",
    "    kmeans = KMeans(n_clusters=2, random_state=42).fit(features)\n",
    "    labels = kmeans.labels_\n",
    "\n",
    "    os.makedirs(cluster_0_folder, exist_ok=True)\n",
    "    os.makedirs(cluster_1_folder, exist_ok=True)\n",
    "\n",
    "    save_images_by_cluster(images, labels, cluster_0_folder, cluster_1_folder)\n",
    "\n",
    "def save_images_by_cluster(images, labels, cluster_folder_0, cluster_folder_1):\n",
    "    for idx, (image, label) in enumerate(zip(images, labels)):\n",
    "        image_folder = cluster_folder_0 if label == 0 else cluster_folder_1\n",
    "        image_path = os.path.join(image_folder, f'image_{idx}.png')\n",
    "\n",
    "        img = array_to_img(image, scale=True)\n",
    "        img.save(image_path)\n",
    "\n",
    "def cluster_and_save_all_folders(List):\n",
    "    for i in List:\n",
    "        folder_path = \"./여자배우/\"+i+\"_수정본\"\n",
    "        if os.path.isdir(folder_path):\n",
    "            cluster_0_folder = f'./여자배우/{i}_cluster_0'\n",
    "            cluster_1_folder = f'{i}_cluster_1'\n",
    "            cluster_and_save(folder_path, cluster_0_folder, cluster_1_folder)\n",
    "            print(\"success \"+i)\n",
    "        \n",
    "f = open(\"./여자배우/여자배우.txt\", 'r',encoding=\"utf-8\")\n",
    "lines = f.readlines()\n",
    "data=[]\n",
    "List=[]\n",
    "for i in lines:\n",
    "    data.append(i.strip())\n",
    "print(len(data))\n",
    "for i in data:\n",
    "    if not i==\"\":\n",
    "        if os.path.isdir(f\"./여자배우/{i}_수정본\"):\n",
    "            List.append(i)\n",
    "List.sort()\n",
    "cluster_and_save_all_folders(List)"
   ]
  },
  {
   "cell_type": "code",
   "execution_count": null,
   "id": "2893df50-0825-445a-a0c2-5aad2096ef81",
   "metadata": {},
   "outputs": [],
   "source": []
  }
 ],
 "metadata": {
  "kernelspec": {
   "display_name": "Python 3 (ipykernel)",
   "language": "python",
   "name": "python3"
  },
  "language_info": {
   "codemirror_mode": {
    "name": "ipython",
    "version": 3
   },
   "file_extension": ".py",
   "mimetype": "text/x-python",
   "name": "python",
   "nbconvert_exporter": "python",
   "pygments_lexer": "ipython3",
   "version": "3.10.10"
  }
 },
 "nbformat": 4,
 "nbformat_minor": 5
}
