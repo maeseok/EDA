{
 "cells": [
  {
   "cell_type": "code",
   "execution_count": 21,
   "id": "43f76fd4",
   "metadata": {},
   "outputs": [],
   "source": [
    "import sys\n",
    "import numpy as np\n",
    "import cv2"
   ]
  },
  {
   "cell_type": "code",
   "execution_count": 22,
   "id": "4468157e",
   "metadata": {},
   "outputs": [
    {
     "name": "stdout",
     "output_type": "stream",
     "text": [
      "0.98869413 43 59 157 217\n",
      "0.961563 110 133 227 300\n"
     ]
    }
   ],
   "source": [
    "model_name='res10_300x300_ssd_iter_140000.caffemodel'\n",
    "prototxt_name='deploy.prototxt.txt'\n",
    "\n",
    "def detectAndDisplay(frame):\n",
    "  \n",
    "    model=cv2.dnn.readNetFromCaffe(prototxt_name,model_name);\n",
    "    blob=cv2.dnn.blobFromImage(cv2.resize(frame,(300,300)),1.0,\n",
    "                              (300,300),(104.0,177.0,123.0))\n",
    "    model.setInput(blob)\n",
    "    detections=model.forward()\n",
    "\n",
    "\n",
    "    for i in range(0, detections.shape[2]):\n",
    "        \n",
    "            confidence = detections[0, 0, i, 2]\n",
    "            min_confidence=0.6;\n",
    "           \n",
    "            if confidence > min_confidence:\n",
    "                  \n",
    "                    box = detections[0, 0, i, 3:7] * np.array([width, height, width, height])\n",
    "                    (startX, startY, endX, endY) = box.astype(\"int\")\n",
    "                    print(confidence, startX, startY, endX, endY)\n",
    "     \n",
    "                    \n",
    "                    text = \"{:.2f}%\".format(confidence * 100)\n",
    "                    y = startY - 10 if startY - 10 > 10 else startY + 10\n",
    "                    cv2.rectangle(frame, (startX, startY), (endX, endY),\n",
    "                            (0, 255, 0), 2)\n",
    "                    cv2.putText(frame, text, (startX, y),\n",
    "                            cv2.FONT_HERSHEY_SIMPLEX, 0.5, (0, 255, 0), 1)\n",
    "\n",
    "    cv2.imshow(\"Face Detection by dnn\", frame)\n",
    "    \n",
    "\n",
    "img = cv2.imread('test2.jpg')\n",
    "(height, width) = img.shape[:2]\n",
    "detectAndDisplay(img)\n",
    "\n",
    "cv2.waitKey(0)\n",
    "cv2.destroyAllWindows()"
   ]
  },
  {
   "cell_type": "code",
   "execution_count": null,
   "id": "ee3cd307",
   "metadata": {},
   "outputs": [],
   "source": []
  }
 ],
 "metadata": {
  "kernelspec": {
   "display_name": "Python 3.10.7 64-bit",
   "language": "python",
   "name": "python3"
  },
  "language_info": {
   "codemirror_mode": {
    "name": "ipython",
    "version": 3
   },
   "file_extension": ".py",
   "mimetype": "text/x-python",
   "name": "python",
   "nbconvert_exporter": "python",
   "pygments_lexer": "ipython3",
   "version": "3.10.7"
  },
  "vscode": {
   "interpreter": {
    "hash": "e726dfcfd2aa7c89c8dbc4c560c1e1f3c16eb0fa359096469343a30c0228cb32"
   }
  }
 },
 "nbformat": 4,
 "nbformat_minor": 5
}
