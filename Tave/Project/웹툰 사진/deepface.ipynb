{
 "cells": [
  {
   "cell_type": "code",
   "execution_count": 17,
   "id": "c97723ba",
   "metadata": {},
   "outputs": [
    {
     "ename": "ImportError",
     "evalue": "cannot import name 'DeepFace' from partially initialized module 'deepface' (most likely due to a circular import) (C:\\Users\\LWG\\Desktop\\2023\\코딩\\EDA\\Tave\\Project\\웹툰 사진\\deepface.py)",
     "output_type": "error",
     "traceback": [
      "\u001b[1;31m---------------------------------------------------------------------------\u001b[0m",
      "\u001b[1;31mImportError\u001b[0m                               Traceback (most recent call last)",
      "Cell \u001b[1;32mIn[17], line 4\u001b[0m\n\u001b[0;32m      2\u001b[0m \u001b[38;5;28;01mimport\u001b[39;00m \u001b[38;5;21;01mcv2\u001b[39;00m\n\u001b[0;32m      3\u001b[0m \u001b[38;5;28;01mimport\u001b[39;00m \u001b[38;5;21;01mmatplotlib\u001b[39;00m\u001b[38;5;21;01m.\u001b[39;00m\u001b[38;5;21;01mpyplot\u001b[39;00m \u001b[38;5;28;01mas\u001b[39;00m \u001b[38;5;21;01mplt\u001b[39;00m\n\u001b[1;32m----> 4\u001b[0m \u001b[38;5;28;01mfrom\u001b[39;00m \u001b[38;5;21;01mdeepface\u001b[39;00m \u001b[38;5;28;01mimport\u001b[39;00m DeepFace\n\u001b[0;32m      5\u001b[0m img_path \u001b[38;5;241m=\u001b[39m \u001b[38;5;124m'\u001b[39m\u001b[38;5;124m./test.jpg\u001b[39m\u001b[38;5;124m'\u001b[39m\u001b[38;5;66;03m# 이미지 읽기\u001b[39;00m\n\u001b[0;32m      6\u001b[0m img \u001b[38;5;241m=\u001b[39m cv2\u001b[38;5;241m.\u001b[39mimread(img_path)\u001b[38;5;66;03m# 이미지 확인\u001b[39;00m\n",
      "File \u001b[1;32m~\\Desktop\\2023\\코딩\\EDA\\Tave\\Project\\웹툰 사진\\deepface.py:1\u001b[0m\n\u001b[1;32m----> 1\u001b[0m \u001b[38;5;28;01mfrom\u001b[39;00m \u001b[38;5;21;01mdeepface\u001b[39;00m \u001b[38;5;28;01mimport\u001b[39;00m DeepFace\n",
      "\u001b[1;31mImportError\u001b[0m: cannot import name 'DeepFace' from partially initialized module 'deepface' (most likely due to a circular import) (C:\\Users\\LWG\\Desktop\\2023\\코딩\\EDA\\Tave\\Project\\웹툰 사진\\deepface.py)"
     ]
    }
   ],
   "source": [
    "# 라이브러리 import\n",
    "import cv2\n",
    "import matplotlib.pyplot as plt\n",
    "from deepface import DeepFace\n",
    "img_path = './test.jpg'# 이미지 읽기\n",
    "img = cv2.imread(img_path)# 이미지 확인\n",
    "plt.imshow(cv2.cvtColor(img, cv2.COLOR_BGR2RGB))"
   ]
  },
  {
   "cell_type": "code",
   "execution_count": 15,
   "id": "1c3f1b2c",
   "metadata": {},
   "outputs": [
    {
     "ename": "NameError",
     "evalue": "name 'DeepFace' is not defined",
     "output_type": "error",
     "traceback": [
      "\u001b[1;31m---------------------------------------------------------------------------\u001b[0m",
      "\u001b[1;31mNameError\u001b[0m                                 Traceback (most recent call last)",
      "Cell \u001b[1;32mIn[15], line 4\u001b[0m\n\u001b[0;32m      2\u001b[0m detection_models \u001b[38;5;241m=\u001b[39m [\u001b[38;5;124m'\u001b[39m\u001b[38;5;124mopencv\u001b[39m\u001b[38;5;124m'\u001b[39m, \u001b[38;5;124m'\u001b[39m\u001b[38;5;124mssd\u001b[39m\u001b[38;5;124m'\u001b[39m, \u001b[38;5;124m'\u001b[39m\u001b[38;5;124mdlib\u001b[39m\u001b[38;5;124m'\u001b[39m, \u001b[38;5;124m'\u001b[39m\u001b[38;5;124mmtcnn\u001b[39m\u001b[38;5;124m'\u001b[39m, \u001b[38;5;124m'\u001b[39m\u001b[38;5;124mretinaface\u001b[39m\u001b[38;5;124m'\u001b[39m, \u001b[38;5;124m'\u001b[39m\u001b[38;5;124mmediapipe\u001b[39m\u001b[38;5;124m'\u001b[39m]\n\u001b[0;32m      3\u001b[0m \u001b[38;5;66;03m# 얼굴 검출 및 정렬 진행\u001b[39;00m\n\u001b[1;32m----> 4\u001b[0m face \u001b[38;5;241m=\u001b[39m \u001b[43mDeepFace\u001b[49m\u001b[38;5;241m.\u001b[39mdetectFace(img_path\u001b[38;5;241m=\u001b[39mimg,\n\u001b[0;32m      5\u001b[0m                         detector_backend\u001b[38;5;241m=\u001b[39m\u001b[38;5;124m'\u001b[39m\u001b[38;5;124mretinaface\u001b[39m\u001b[38;5;124m'\u001b[39m)\n\u001b[0;32m      6\u001b[0m \u001b[38;5;66;03m# 얼굴 영역 확인\u001b[39;00m\n\u001b[0;32m      7\u001b[0m plt\u001b[38;5;241m.\u001b[39mimshow(cv2\u001b[38;5;241m.\u001b[39mcvtColor(face, cv2\u001b[38;5;241m.\u001b[39mCOLOR_BGR2RGB))\n",
      "\u001b[1;31mNameError\u001b[0m: name 'DeepFace' is not defined"
     ]
    }
   ],
   "source": [
    "# 얼굴 검출 모델 목록 (원하는 모델 선택 사용)\n",
    "detection_models = ['opencv', 'ssd', 'dlib', 'mtcnn', 'retinaface', 'mediapipe']\n",
    "# 얼굴 검출 및 정렬 진행\n",
    "face = DeepFace.detectFace(img_path=img,\n",
    "                        detector_backend='retinaface')\n",
    "# 얼굴 영역 확인\n",
    "plt.imshow(cv2.cvtColor(face, cv2.COLOR_BGR2RGB))"
   ]
  },
  {
   "cell_type": "code",
   "execution_count": 6,
   "id": "9b74419e",
   "metadata": {},
   "outputs": [
    {
     "name": "stdout",
     "output_type": "stream",
     "text": [
      "Requirement already satisfied: DeepFace in c:\\users\\lwg\\appdata\\local\\programs\\python\\python310\\lib\\site-packages (0.0.81)\n",
      "Requirement already satisfied: numpy>=1.14.0 in c:\\users\\lwg\\appdata\\local\\programs\\python\\python310\\lib\\site-packages (from DeepFace) (1.26.2)\n",
      "Requirement already satisfied: pandas>=0.23.4 in c:\\users\\lwg\\appdata\\local\\programs\\python\\python310\\lib\\site-packages (from DeepFace) (1.5.0)\n",
      "Requirement already satisfied: gdown>=3.10.1 in c:\\users\\lwg\\appdata\\local\\programs\\python\\python310\\lib\\site-packages (from DeepFace) (4.7.1)\n",
      "Requirement already satisfied: tqdm>=4.30.0 in c:\\users\\lwg\\appdata\\local\\programs\\python\\python310\\lib\\site-packages (from DeepFace) (4.66.1)\n",
      "Requirement already satisfied: Pillow>=5.2.0 in c:\\users\\lwg\\appdata\\local\\programs\\python\\python310\\lib\\site-packages (from DeepFace) (9.2.0)\n",
      "Requirement already satisfied: opencv-python>=4.5.5.64 in c:\\users\\lwg\\appdata\\local\\programs\\python\\python310\\lib\\site-packages (from DeepFace) (4.8.1.78)\n",
      "Requirement already satisfied: tensorflow>=1.9.0 in c:\\users\\lwg\\appdata\\local\\programs\\python\\python310\\lib\\site-packages (from DeepFace) (2.10.0)\n",
      "Requirement already satisfied: keras>=2.2.0 in c:\\users\\lwg\\appdata\\local\\programs\\python\\python310\\lib\\site-packages (from DeepFace) (2.10.0)\n",
      "Requirement already satisfied: Flask>=1.1.2 in c:\\users\\lwg\\appdata\\local\\programs\\python\\python310\\lib\\site-packages (from DeepFace) (2.2.2)\n",
      "Requirement already satisfied: mtcnn>=0.1.0 in c:\\users\\lwg\\appdata\\local\\programs\\python\\python310\\lib\\site-packages (from DeepFace) (0.1.1)\n",
      "Requirement already satisfied: retina-face>=0.0.1 in c:\\users\\lwg\\appdata\\local\\programs\\python\\python310\\lib\\site-packages (from DeepFace) (0.0.13)\n",
      "Requirement already satisfied: fire>=0.4.0 in c:\\users\\lwg\\appdata\\local\\programs\\python\\python310\\lib\\site-packages (from DeepFace) (0.5.0)\n",
      "Requirement already satisfied: gunicorn>=20.1.0 in c:\\users\\lwg\\appdata\\local\\programs\\python\\python310\\lib\\site-packages (from DeepFace) (21.2.0)\n",
      "Requirement already satisfied: Deprecated>=1.2.13 in c:\\users\\lwg\\appdata\\local\\programs\\python\\python310\\lib\\site-packages (from DeepFace) (1.2.14)\n",
      "Requirement already satisfied: wrapt<2,>=1.10 in c:\\users\\lwg\\appdata\\local\\programs\\python\\python310\\lib\\site-packages (from Deprecated>=1.2.13->DeepFace) (1.12.1)\n",
      "Requirement already satisfied: six in c:\\users\\lwg\\appdata\\local\\programs\\python\\python310\\lib\\site-packages (from fire>=0.4.0->DeepFace) (1.15.0)\n",
      "Requirement already satisfied: termcolor in c:\\users\\lwg\\appdata\\local\\programs\\python\\python310\\lib\\site-packages (from fire>=0.4.0->DeepFace) (1.1.0)\n",
      "Requirement already satisfied: Werkzeug>=2.2.2 in c:\\users\\lwg\\appdata\\local\\programs\\python\\python310\\lib\\site-packages (from Flask>=1.1.2->DeepFace) (2.2.2)\n",
      "Requirement already satisfied: Jinja2>=3.0 in c:\\users\\lwg\\appdata\\local\\programs\\python\\python310\\lib\\site-packages (from Flask>=1.1.2->DeepFace) (3.1.2)\n",
      "Requirement already satisfied: itsdangerous>=2.0 in c:\\users\\lwg\\appdata\\local\\programs\\python\\python310\\lib\\site-packages (from Flask>=1.1.2->DeepFace) (2.1.2)\n",
      "Requirement already satisfied: click>=8.0 in c:\\users\\lwg\\appdata\\local\\programs\\python\\python310\\lib\\site-packages (from Flask>=1.1.2->DeepFace) (8.1.3)\n",
      "Requirement already satisfied: filelock in c:\\users\\lwg\\appdata\\local\\programs\\python\\python310\\lib\\site-packages (from gdown>=3.10.1->DeepFace) (3.13.1)\n",
      "Requirement already satisfied: requests[socks] in c:\\users\\lwg\\appdata\\local\\programs\\python\\python310\\lib\\site-packages (from gdown>=3.10.1->DeepFace) (2.28.1)\n",
      "Requirement already satisfied: beautifulsoup4 in c:\\users\\lwg\\appdata\\local\\programs\\python\\python310\\lib\\site-packages (from gdown>=3.10.1->DeepFace) (4.11.1)\n",
      "Requirement already satisfied: packaging in c:\\users\\lwg\\appdata\\local\\programs\\python\\python310\\lib\\site-packages (from gunicorn>=20.1.0->DeepFace) (21.3)\n",
      "Requirement already satisfied: python-dateutil>=2.8.1 in c:\\users\\lwg\\appdata\\local\\programs\\python\\python310\\lib\\site-packages (from pandas>=0.23.4->DeepFace) (2.8.2)\n",
      "Requirement already satisfied: pytz>=2020.1 in c:\\users\\lwg\\appdata\\local\\programs\\python\\python310\\lib\\site-packages (from pandas>=0.23.4->DeepFace) (2022.2.1)\n",
      "Requirement already satisfied: absl-py>=1.0.0 in c:\\users\\lwg\\appdata\\local\\programs\\python\\python310\\lib\\site-packages (from tensorflow>=1.9.0->DeepFace) (1.3.0)\n",
      "Requirement already satisfied: astunparse>=1.6.0 in c:\\users\\lwg\\appdata\\local\\programs\\python\\python310\\lib\\site-packages (from tensorflow>=1.9.0->DeepFace) (1.6.3)\n",
      "Requirement already satisfied: flatbuffers>=2.0 in c:\\users\\lwg\\appdata\\local\\programs\\python\\python310\\lib\\site-packages (from tensorflow>=1.9.0->DeepFace) (22.9.24)\n",
      "Requirement already satisfied: gast<=0.4.0,>=0.2.1 in c:\\users\\lwg\\appdata\\local\\programs\\python\\python310\\lib\\site-packages (from tensorflow>=1.9.0->DeepFace) (0.4.0)\n",
      "Requirement already satisfied: google-pasta>=0.1.1 in c:\\users\\lwg\\appdata\\local\\programs\\python\\python310\\lib\\site-packages (from tensorflow>=1.9.0->DeepFace) (0.2.0)\n",
      "Requirement already satisfied: h5py>=2.9.0 in c:\\users\\lwg\\appdata\\local\\programs\\python\\python310\\lib\\site-packages (from tensorflow>=1.9.0->DeepFace) (3.7.0)\n",
      "Requirement already satisfied: keras-preprocessing>=1.1.1 in c:\\users\\lwg\\appdata\\local\\programs\\python\\python310\\lib\\site-packages (from tensorflow>=1.9.0->DeepFace) (1.1.2)\n",
      "Requirement already satisfied: libclang>=13.0.0 in c:\\users\\lwg\\appdata\\local\\programs\\python\\python310\\lib\\site-packages (from tensorflow>=1.9.0->DeepFace) (14.0.6)\n",
      "Requirement already satisfied: opt-einsum>=2.3.2 in c:\\users\\lwg\\appdata\\local\\programs\\python\\python310\\lib\\site-packages (from tensorflow>=1.9.0->DeepFace) (3.3.0)\n",
      "Requirement already satisfied: protobuf<3.20,>=3.9.2 in c:\\users\\lwg\\appdata\\local\\programs\\python\\python310\\lib\\site-packages (from tensorflow>=1.9.0->DeepFace) (3.19.6)\n",
      "Requirement already satisfied: setuptools in c:\\users\\lwg\\appdata\\local\\programs\\python\\python310\\lib\\site-packages (from tensorflow>=1.9.0->DeepFace) (63.2.0)\n",
      "Requirement already satisfied: typing-extensions>=3.6.6 in c:\\users\\lwg\\appdata\\local\\programs\\python\\python310\\lib\\site-packages (from tensorflow>=1.9.0->DeepFace) (4.4.0)\n",
      "Requirement already satisfied: tensorflow-io-gcs-filesystem>=0.23.1 in c:\\users\\lwg\\appdata\\local\\programs\\python\\python310\\lib\\site-packages (from tensorflow>=1.9.0->DeepFace) (0.27.0)\n",
      "Requirement already satisfied: grpcio<2.0,>=1.24.3 in c:\\users\\lwg\\appdata\\local\\programs\\python\\python310\\lib\\site-packages (from tensorflow>=1.9.0->DeepFace) (1.60.0)\n",
      "Requirement already satisfied: tensorboard<2.11,>=2.10 in c:\\users\\lwg\\appdata\\local\\programs\\python\\python310\\lib\\site-packages (from tensorflow>=1.9.0->DeepFace) (2.10.1)\n",
      "Requirement already satisfied: tensorflow-estimator<2.11,>=2.10.0 in c:\\users\\lwg\\appdata\\local\\programs\\python\\python310\\lib\\site-packages (from tensorflow>=1.9.0->DeepFace) (2.10.0)\n",
      "Requirement already satisfied: colorama in c:\\users\\lwg\\appdata\\local\\programs\\python\\python310\\lib\\site-packages (from tqdm>=4.30.0->DeepFace) (0.4.6)\n",
      "Requirement already satisfied: wheel<1.0,>=0.23.0 in c:\\users\\lwg\\appdata\\local\\programs\\python\\python310\\lib\\site-packages (from astunparse>=1.6.0->tensorflow>=1.9.0->DeepFace) (0.37.1)\n",
      "Requirement already satisfied: MarkupSafe>=2.0 in c:\\users\\lwg\\appdata\\local\\programs\\python\\python310\\lib\\site-packages (from Jinja2>=3.0->Flask>=1.1.2->DeepFace) (2.1.1)\n",
      "Requirement already satisfied: google-auth<3,>=1.6.3 in c:\\users\\lwg\\appdata\\local\\programs\\python\\python310\\lib\\site-packages (from tensorboard<2.11,>=2.10->tensorflow>=1.9.0->DeepFace) (2.25.2)\n",
      "Requirement already satisfied: google-auth-oauthlib<0.5,>=0.4.1 in c:\\users\\lwg\\appdata\\local\\programs\\python\\python310\\lib\\site-packages (from tensorboard<2.11,>=2.10->tensorflow>=1.9.0->DeepFace) (0.4.6)\n",
      "Requirement already satisfied: markdown>=2.6.8 in c:\\users\\lwg\\appdata\\local\\programs\\python\\python310\\lib\\site-packages (from tensorboard<2.11,>=2.10->tensorflow>=1.9.0->DeepFace) (3.4.1)\n",
      "Requirement already satisfied: tensorboard-data-server<0.7.0,>=0.6.0 in c:\\users\\lwg\\appdata\\local\\programs\\python\\python310\\lib\\site-packages (from tensorboard<2.11,>=2.10->tensorflow>=1.9.0->DeepFace) (0.6.1)\n",
      "Requirement already satisfied: tensorboard-plugin-wit>=1.6.0 in c:\\users\\lwg\\appdata\\local\\programs\\python\\python310\\lib\\site-packages (from tensorboard<2.11,>=2.10->tensorflow>=1.9.0->DeepFace) (1.8.1)\n",
      "Requirement already satisfied: soupsieve>1.2 in c:\\users\\lwg\\appdata\\local\\programs\\python\\python310\\lib\\site-packages (from beautifulsoup4->gdown>=3.10.1->DeepFace) (2.3.2.post1)\n",
      "Requirement already satisfied: pyparsing!=3.0.5,>=2.0.2 in c:\\users\\lwg\\appdata\\local\\programs\\python\\python310\\lib\\site-packages (from packaging->gunicorn>=20.1.0->DeepFace) (3.0.9)\n",
      "Requirement already satisfied: charset-normalizer<3,>=2 in c:\\users\\lwg\\appdata\\local\\programs\\python\\python310\\lib\\site-packages (from requests[socks]->gdown>=3.10.1->DeepFace) (2.1.1)\n",
      "Requirement already satisfied: idna<4,>=2.5 in c:\\users\\lwg\\appdata\\local\\programs\\python\\python310\\lib\\site-packages (from requests[socks]->gdown>=3.10.1->DeepFace) (3.4)\n",
      "Requirement already satisfied: urllib3<1.27,>=1.21.1 in c:\\users\\lwg\\appdata\\local\\programs\\python\\python310\\lib\\site-packages (from requests[socks]->gdown>=3.10.1->DeepFace) (1.26.5)\n",
      "Requirement already satisfied: certifi>=2017.4.17 in c:\\users\\lwg\\appdata\\local\\programs\\python\\python310\\lib\\site-packages (from requests[socks]->gdown>=3.10.1->DeepFace) (2022.9.24)\n",
      "Requirement already satisfied: PySocks!=1.5.7,>=1.5.6 in c:\\users\\lwg\\appdata\\local\\programs\\python\\python310\\lib\\site-packages (from requests[socks]->gdown>=3.10.1->DeepFace) (1.7.1)\n",
      "Requirement already satisfied: cachetools<6.0,>=2.0.0 in c:\\users\\lwg\\appdata\\local\\programs\\python\\python310\\lib\\site-packages (from google-auth<3,>=1.6.3->tensorboard<2.11,>=2.10->tensorflow>=1.9.0->DeepFace) (5.2.0)\n",
      "Requirement already satisfied: pyasn1-modules>=0.2.1 in c:\\users\\lwg\\appdata\\local\\programs\\python\\python310\\lib\\site-packages (from google-auth<3,>=1.6.3->tensorboard<2.11,>=2.10->tensorflow>=1.9.0->DeepFace) (0.2.8)\n",
      "Requirement already satisfied: rsa<5,>=3.1.4 in c:\\users\\lwg\\appdata\\local\\programs\\python\\python310\\lib\\site-packages (from google-auth<3,>=1.6.3->tensorboard<2.11,>=2.10->tensorflow>=1.9.0->DeepFace) (4.9)\n",
      "Requirement already satisfied: requests-oauthlib>=0.7.0 in c:\\users\\lwg\\appdata\\local\\programs\\python\\python310\\lib\\site-packages (from google-auth-oauthlib<0.5,>=0.4.1->tensorboard<2.11,>=2.10->tensorflow>=1.9.0->DeepFace) (1.3.1)\n",
      "Requirement already satisfied: pyasn1<0.5.0,>=0.4.6 in c:\\users\\lwg\\appdata\\local\\programs\\python\\python310\\lib\\site-packages (from pyasn1-modules>=0.2.1->google-auth<3,>=1.6.3->tensorboard<2.11,>=2.10->tensorflow>=1.9.0->DeepFace) (0.4.8)\n",
      "Requirement already satisfied: oauthlib>=3.0.0 in c:\\users\\lwg\\appdata\\local\\programs\\python\\python310\\lib\\site-packages (from requests-oauthlib>=0.7.0->google-auth-oauthlib<0.5,>=0.4.1->tensorboard<2.11,>=2.10->tensorflow>=1.9.0->DeepFace) (3.2.2)\n"
     ]
    }
   ],
   "source": [
    "!pip install DeepFace"
   ]
  },
  {
   "cell_type": "code",
   "execution_count": null,
   "id": "d70e9d1f",
   "metadata": {},
   "outputs": [],
   "source": []
  }
 ],
 "metadata": {
  "kernelspec": {
   "display_name": "Python 3 (ipykernel)",
   "language": "python",
   "name": "python3"
  },
  "language_info": {
   "codemirror_mode": {
    "name": "ipython",
    "version": 3
   },
   "file_extension": ".py",
   "mimetype": "text/x-python",
   "name": "python",
   "nbconvert_exporter": "python",
   "pygments_lexer": "ipython3",
   "version": "3.10.7"
  }
 },
 "nbformat": 4,
 "nbformat_minor": 5
}
