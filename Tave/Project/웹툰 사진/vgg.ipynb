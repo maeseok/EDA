{
 "cells": [
  {
   "cell_type": "code",
   "execution_count": 1,
   "id": "d176cb51",
   "metadata": {},
   "outputs": [],
   "source": [
    "import cv2\n",
    "import numpy as np\n",
    "from tensorflow.keras.applications.vgg16 import VGG16, preprocess_input\n",
    "from tensorflow.keras.preprocessing import image\n",
    "from tensorflow.keras.models import Model"
   ]
  },
  {
   "cell_type": "code",
   "execution_count": 6,
   "id": "5759e3c7",
   "metadata": {},
   "outputs": [
    {
     "name": "stdout",
     "output_type": "stream",
     "text": [
      "1/1 [==============================] - 0s 237ms/step\n",
      "Face not recognized!\n"
     ]
    }
   ],
   "source": [
    "# VGG16 모델 로드 (Fully Connected 레이어 제외)\n",
    "base_model = VGG16(weights='imagenet')\n",
    "model = Model(inputs=base_model.input, outputs=base_model.get_layer('fc2').output)\n",
    "\n",
    "# 얼굴 이미지 전처리\n",
    "def preprocess_face(image_path):\n",
    "    img = image.load_img(image_path, target_size=(224, 224))\n",
    "    img_array = image.img_to_array(img)\n",
    "    img_array = np.expand_dims(img_array, axis=0)\n",
    "    img_array = preprocess_input(img_array)\n",
    "    return img_array\n",
    "\n",
    "# 얼굴 인식 함수\n",
    "def recognize_face(face_path, threshold=0.7):\n",
    "    # 입력 이미지 전처리\n",
    "    input_image = preprocess_face(face_path)\n",
    "\n",
    "    # VGG16 모델을 사용하여 얼굴 특징 추출\n",
    "    features = model.predict(input_image)\n",
    "\n",
    "    # 여기서는 무작위로 생성한 얼굴 특징을 사용하고 있습니다.\n",
    "    # 실제로는 얼굴에 대한 특징을 저장하고 이와 비교하는 방식으로 사용합니다.\n",
    "    database_features = np.random.rand(5, 4096)  # 예: 5명의 얼굴에 대한 특징 데이터\n",
    "\n",
    "    # 데이터베이스의 얼굴 특징과의 거리 계산\n",
    "    distances = np.linalg.norm(database_features - features, axis=1)\n",
    "\n",
    "    # 거리가 임계값보다 작으면 얼굴이라고 판단\n",
    "    if np.min(distances) < threshold:\n",
    "        min_distance_idx = np.argmin(distances)\n",
    "        return f\"Face recognized! Person {min_distance_idx + 1}\"\n",
    "    else:\n",
    "        return \"Face not recognized!\"\n",
    "\n",
    "# 테스트 이미지로 얼굴 인식 수행\n",
    "test_image_path = 'google_0001.jpg'  # 테스트할 이미지 파일 경로\n",
    "result = recognize_face(test_image_path)\n",
    "print(result)"
   ]
  },
  {
   "cell_type": "code",
   "execution_count": null,
   "id": "c51ffcab",
   "metadata": {},
   "outputs": [],
   "source": []
  }
 ],
 "metadata": {
  "kernelspec": {
   "display_name": "Python 3 (ipykernel)",
   "language": "python",
   "name": "python3"
  },
  "language_info": {
   "codemirror_mode": {
    "name": "ipython",
    "version": 3
   },
   "file_extension": ".py",
   "mimetype": "text/x-python",
   "name": "python",
   "nbconvert_exporter": "python",
   "pygments_lexer": "ipython3",
   "version": "3.10.7"
  }
 },
 "nbformat": 4,
 "nbformat_minor": 5
}
