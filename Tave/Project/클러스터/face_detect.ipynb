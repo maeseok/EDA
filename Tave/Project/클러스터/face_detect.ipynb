{
 "cells": [
  {
   "cell_type": "code",
   "execution_count": 64,
   "id": "45baed6b",
   "metadata": {},
   "outputs": [],
   "source": [
    "import os\n",
    "import glob\n",
    "\n",
    "files = glob.glob(\"./배다빈/*.png\") #원하는 디렉토리 설정\n",
    "for name in files:\n",
    "    if not os.path.isdir(name): #디렉토리는 포함 x\n",
    "        src = os.path.splitext(name) #확장자와 파일명 구분\n",
    "        os.rename(name,src[0]+'.jpg') #png를 없앤 파일명에 jpg확장자 붙이기"
   ]
  },
  {
   "cell_type": "code",
   "execution_count": null,
   "id": "9102fd63",
   "metadata": {},
   "outputs": [],
   "source": [
    "import os\n",
    "import glob\n",
    "import cv2\n",
    "import numpy as np\n",
    "\n",
    "#코드 위치 = /여자배우 (배우사진이 있는 폴더)\n",
    "fpath = './배다빈'\n",
    "file_list = os.listdir(fpath)\n",
    "\n",
    "file_name_list = []\n",
    "\n",
    "for i in range(len(file_list)):\n",
    "    file_name_list.append(file_list[i].replace(\".jpg\",\"\"))"
   ]
  },
  {
   "cell_type": "code",
   "execution_count": 66,
   "id": "9b88e3b0",
   "metadata": {},
   "outputs": [
    {
     "name": "stdout",
     "output_type": "stream",
     "text": [
      "success\n"
     ]
    }
   ],
   "source": [
    "#한글 변환\n",
    "def hangulFilePathImageRead ( filePath ) :\n",
    "\n",
    "    stream = open( filePath.encode(\"utf-8\") , \"rb\")\n",
    "    bytes = bytearray(stream.read())\n",
    "    numpyArray = np.asarray(bytes, dtype=np.uint8)\n",
    "\n",
    "    return cv2.imdecode(numpyArray , cv2.IMREAD_UNCHANGED)\n",
    "def Cutting_face_save(image, name):\n",
    "    face_cascade = cv2.CascadeClassifier('./haarcascade_frontalface_default.xml')\n",
    "    gray = cv2.cvtColor(image, cv2.COLOR_BGR2GRAY)\n",
    "    faces = face_cascade.detectMultiScale(gray, 1.3, 5)\n",
    "    for (x,y,w,h) in faces:\n",
    "        # cv2.rectangle(image, (x,y), (x+w, y+h), (255,0,0), 2)\n",
    "        cropped = image[y: y+h, x: x+w]\n",
    "        resize = cv2.resize(cropped, (180,180))\n",
    "        # cv2.imshow(\"crop&resize\", resize)\n",
    "        # cv2.waitKey(0)\n",
    "        # cv2.destroyAllWindows()\n",
    "\n",
    "        # 이미지 저장하기 - 해당 폴더 미리 생성해야함\n",
    "        cv2.imwrite(f\"./cutting_faces/{name}.jpg\", resize)\n",
    "\n",
    "for name in file_name_list:\n",
    "    if name!=\"google_done\" and name!=\"naver_done\":\n",
    "        img = hangulFilePathImageRead(\"./배다빈/\"+name+\".jpg\")\n",
    "        Cutting_face_save(img, name)\n",
    "print(\"success\")"
   ]
  },
  {
   "cell_type": "code",
   "execution_count": null,
   "id": "f6bfdef4",
   "metadata": {},
   "outputs": [],
   "source": []
  }
 ],
 "metadata": {
  "kernelspec": {
   "display_name": "Python 3 (ipykernel)",
   "language": "python",
   "name": "python3"
  },
  "language_info": {
   "codemirror_mode": {
    "name": "ipython",
    "version": 3
   },
   "file_extension": ".py",
   "mimetype": "text/x-python",
   "name": "python",
   "nbconvert_exporter": "python",
   "pygments_lexer": "ipython3",
   "version": "3.10.7"
  }
 },
 "nbformat": 4,
 "nbformat_minor": 5
}
